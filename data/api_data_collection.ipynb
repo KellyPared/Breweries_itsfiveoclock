{
 "cells": [
  {
   "cell_type": "code",
   "execution_count": null,
   "id": "cd9342e0",
   "metadata": {},
   "outputs": [],
   "source": [
    "#8600 rows x 17 columns] breweries"
   ]
  },
  {
   "cell_type": "code",
   "execution_count": 37,
   "id": "da16b986",
   "metadata": {},
   "outputs": [],
   "source": [
    "import requests\n",
    "import pandas as pd\n",
    "from bs4 import BeautifulSoup\n",
    "import time\n",
    "import pprint\n"
   ]
  },
  {
   "cell_type": "code",
   "execution_count": null,
   "id": "ca6c0be3",
   "metadata": {},
   "outputs": [],
   "source": [
    "i = 0\n",
    "url = f'https://api.openbrewerydb.org/breweries?page={i}&per_page=200'\n",
    "brewery_list = []\n",
    "for i in range(1,44):\n",
    "    response = requests.get(url)\n",
    "    brewery_data = response.json()\n",
    "    brewery_list.append(brewery_data)\n",
    "    time.sleep(1)\n"
   ]
  },
  {
   "cell_type": "code",
   "execution_count": null,
   "id": "f71672a1",
   "metadata": {},
   "outputs": [],
   "source": [
    "pprint.pprint(brewery_list)"
   ]
  },
  {
   "cell_type": "code",
   "execution_count": null,
   "id": "3c89ed45",
   "metadata": {},
   "outputs": [],
   "source": [
    "from itertools import chain\n",
    "all_brewerys_pd = list(chain.from_iterable(brewery_list))"
   ]
  },
  {
   "cell_type": "code",
   "execution_count": null,
   "id": "3e56bdc9",
   "metadata": {},
   "outputs": [],
   "source": [
    "all_brewerys_pd"
   ]
  },
  {
   "cell_type": "code",
   "execution_count": null,
   "id": "e8963a77",
   "metadata": {},
   "outputs": [],
   "source": [
    "print(len(all_brewerys_pd))"
   ]
  },
  {
   "cell_type": "code",
   "execution_count": null,
   "id": "f99eeb8d",
   "metadata": {},
   "outputs": [],
   "source": [
    "brewery_df = pd.DataFrame.from_records(all_brewerys_pd)\n",
    "print(brewery_df)"
   ]
  },
  {
   "cell_type": "code",
   "execution_count": null,
   "id": "472bec08",
   "metadata": {},
   "outputs": [],
   "source": [
    "brewery_df.describe()"
   ]
  },
  {
   "cell_type": "markdown",
   "id": "b9dd327b",
   "metadata": {},
   "source": [
    "### Simple Graphs"
   ]
  },
  {
   "cell_type": "code",
   "execution_count": null,
   "id": "684574c0",
   "metadata": {},
   "outputs": [],
   "source": [
    "brewery_df.to_csv('brewery_list.csv')"
   ]
  },
  {
   "cell_type": "code",
   "execution_count": null,
   "id": "16048c77",
   "metadata": {},
   "outputs": [],
   "source": []
  },
  {
   "cell_type": "code",
   "execution_count": 87,
   "id": "5e2d4c99",
   "metadata": {},
   "outputs": [],
   "source": [
    "brewery_to_map = pd.read_csv('brewery_final_df.csv') "
   ]
  },
  {
   "cell_type": "code",
   "execution_count": 88,
   "id": "08c1d498",
   "metadata": {},
   "outputs": [
    {
     "ename": "KeyError",
     "evalue": "'brewery_type'",
     "output_type": "error",
     "traceback": [
      "\u001b[0;31m---------------------------------------------------------------------------\u001b[0m",
      "\u001b[0;31mKeyError\u001b[0m                                  Traceback (most recent call last)",
      "\u001b[0;32m~/opt/anaconda3/lib/python3.9/site-packages/pandas/core/indexes/base.py\u001b[0m in \u001b[0;36mget_loc\u001b[0;34m(self, key, method, tolerance)\u001b[0m\n\u001b[1;32m   3801\u001b[0m             \u001b[0;32mtry\u001b[0m\u001b[0;34m:\u001b[0m\u001b[0;34m\u001b[0m\u001b[0;34m\u001b[0m\u001b[0m\n\u001b[0;32m-> 3802\u001b[0;31m                 \u001b[0;32mreturn\u001b[0m \u001b[0mself\u001b[0m\u001b[0;34m.\u001b[0m\u001b[0m_engine\u001b[0m\u001b[0;34m.\u001b[0m\u001b[0mget_loc\u001b[0m\u001b[0;34m(\u001b[0m\u001b[0mcasted_key\u001b[0m\u001b[0;34m)\u001b[0m\u001b[0;34m\u001b[0m\u001b[0;34m\u001b[0m\u001b[0m\n\u001b[0m\u001b[1;32m   3803\u001b[0m             \u001b[0;32mexcept\u001b[0m \u001b[0mKeyError\u001b[0m \u001b[0;32mas\u001b[0m \u001b[0merr\u001b[0m\u001b[0;34m:\u001b[0m\u001b[0;34m\u001b[0m\u001b[0;34m\u001b[0m\u001b[0m\n",
      "\u001b[0;32m~/opt/anaconda3/lib/python3.9/site-packages/pandas/_libs/index.pyx\u001b[0m in \u001b[0;36mpandas._libs.index.IndexEngine.get_loc\u001b[0;34m()\u001b[0m\n",
      "\u001b[0;32m~/opt/anaconda3/lib/python3.9/site-packages/pandas/_libs/index.pyx\u001b[0m in \u001b[0;36mpandas._libs.index.IndexEngine.get_loc\u001b[0;34m()\u001b[0m\n",
      "\u001b[0;32mpandas/_libs/hashtable_class_helper.pxi\u001b[0m in \u001b[0;36mpandas._libs.hashtable.PyObjectHashTable.get_item\u001b[0;34m()\u001b[0m\n",
      "\u001b[0;32mpandas/_libs/hashtable_class_helper.pxi\u001b[0m in \u001b[0;36mpandas._libs.hashtable.PyObjectHashTable.get_item\u001b[0;34m()\u001b[0m\n",
      "\u001b[0;31mKeyError\u001b[0m: 'brewery_type'",
      "\nThe above exception was the direct cause of the following exception:\n",
      "\u001b[0;31mKeyError\u001b[0m                                  Traceback (most recent call last)",
      "\u001b[0;32m/var/folders/lt/r23wrnp91wx9lpfj7gr25m3rgb08gl/T/ipykernel_1403/2380020333.py\u001b[0m in \u001b[0;36m<module>\u001b[0;34m\u001b[0m\n\u001b[1;32m      2\u001b[0m \u001b[0;32mfrom\u001b[0m \u001b[0mmatplotlib\u001b[0m \u001b[0;32mimport\u001b[0m \u001b[0mpyplot\u001b[0m \u001b[0;32mas\u001b[0m \u001b[0mplt\u001b[0m\u001b[0;34m\u001b[0m\u001b[0;34m\u001b[0m\u001b[0m\n\u001b[1;32m      3\u001b[0m \u001b[0;34m\u001b[0m\u001b[0m\n\u001b[0;32m----> 4\u001b[0;31m \u001b[0mplot_brewery_type\u001b[0m \u001b[0;34m=\u001b[0m \u001b[0mpd\u001b[0m\u001b[0;34m.\u001b[0m\u001b[0mDataFrame\u001b[0m\u001b[0;34m(\u001b[0m\u001b[0mbrewery_to_map\u001b[0m\u001b[0;34m[\u001b[0m\u001b[0;34m'brewery_type'\u001b[0m\u001b[0;34m]\u001b[0m\u001b[0;34m)\u001b[0m\u001b[0;34m.\u001b[0m\u001b[0mvalue_counts\u001b[0m\u001b[0;34m(\u001b[0m\u001b[0;34m)\u001b[0m\u001b[0;34m\u001b[0m\u001b[0;34m\u001b[0m\u001b[0m\n\u001b[0m\u001b[1;32m      5\u001b[0m \u001b[0;31m# Plot a bar chart\u001b[0m\u001b[0;34m\u001b[0m\u001b[0;34m\u001b[0m\u001b[0m\n\u001b[1;32m      6\u001b[0m \u001b[0mplot_brewery_type\u001b[0m\u001b[0;34m.\u001b[0m\u001b[0mplot\u001b[0m\u001b[0;34m(\u001b[0m\u001b[0mkind\u001b[0m\u001b[0;34m=\u001b[0m\u001b[0;34m\"bar\"\u001b[0m\u001b[0;34m)\u001b[0m\u001b[0;34m\u001b[0m\u001b[0;34m\u001b[0m\u001b[0m\n",
      "\u001b[0;32m~/opt/anaconda3/lib/python3.9/site-packages/pandas/core/frame.py\u001b[0m in \u001b[0;36m__getitem__\u001b[0;34m(self, key)\u001b[0m\n\u001b[1;32m   3805\u001b[0m             \u001b[0;32mif\u001b[0m \u001b[0mself\u001b[0m\u001b[0;34m.\u001b[0m\u001b[0mcolumns\u001b[0m\u001b[0;34m.\u001b[0m\u001b[0mnlevels\u001b[0m \u001b[0;34m>\u001b[0m \u001b[0;36m1\u001b[0m\u001b[0;34m:\u001b[0m\u001b[0;34m\u001b[0m\u001b[0;34m\u001b[0m\u001b[0m\n\u001b[1;32m   3806\u001b[0m                 \u001b[0;32mreturn\u001b[0m \u001b[0mself\u001b[0m\u001b[0;34m.\u001b[0m\u001b[0m_getitem_multilevel\u001b[0m\u001b[0;34m(\u001b[0m\u001b[0mkey\u001b[0m\u001b[0;34m)\u001b[0m\u001b[0;34m\u001b[0m\u001b[0;34m\u001b[0m\u001b[0m\n\u001b[0;32m-> 3807\u001b[0;31m             \u001b[0mindexer\u001b[0m \u001b[0;34m=\u001b[0m \u001b[0mself\u001b[0m\u001b[0;34m.\u001b[0m\u001b[0mcolumns\u001b[0m\u001b[0;34m.\u001b[0m\u001b[0mget_loc\u001b[0m\u001b[0;34m(\u001b[0m\u001b[0mkey\u001b[0m\u001b[0;34m)\u001b[0m\u001b[0;34m\u001b[0m\u001b[0;34m\u001b[0m\u001b[0m\n\u001b[0m\u001b[1;32m   3808\u001b[0m             \u001b[0;32mif\u001b[0m \u001b[0mis_integer\u001b[0m\u001b[0;34m(\u001b[0m\u001b[0mindexer\u001b[0m\u001b[0;34m)\u001b[0m\u001b[0;34m:\u001b[0m\u001b[0;34m\u001b[0m\u001b[0;34m\u001b[0m\u001b[0m\n\u001b[1;32m   3809\u001b[0m                 \u001b[0mindexer\u001b[0m \u001b[0;34m=\u001b[0m \u001b[0;34m[\u001b[0m\u001b[0mindexer\u001b[0m\u001b[0;34m]\u001b[0m\u001b[0;34m\u001b[0m\u001b[0;34m\u001b[0m\u001b[0m\n",
      "\u001b[0;32m~/opt/anaconda3/lib/python3.9/site-packages/pandas/core/indexes/base.py\u001b[0m in \u001b[0;36mget_loc\u001b[0;34m(self, key, method, tolerance)\u001b[0m\n\u001b[1;32m   3802\u001b[0m                 \u001b[0;32mreturn\u001b[0m \u001b[0mself\u001b[0m\u001b[0;34m.\u001b[0m\u001b[0m_engine\u001b[0m\u001b[0;34m.\u001b[0m\u001b[0mget_loc\u001b[0m\u001b[0;34m(\u001b[0m\u001b[0mcasted_key\u001b[0m\u001b[0;34m)\u001b[0m\u001b[0;34m\u001b[0m\u001b[0;34m\u001b[0m\u001b[0m\n\u001b[1;32m   3803\u001b[0m             \u001b[0;32mexcept\u001b[0m \u001b[0mKeyError\u001b[0m \u001b[0;32mas\u001b[0m \u001b[0merr\u001b[0m\u001b[0;34m:\u001b[0m\u001b[0;34m\u001b[0m\u001b[0;34m\u001b[0m\u001b[0m\n\u001b[0;32m-> 3804\u001b[0;31m                 \u001b[0;32mraise\u001b[0m \u001b[0mKeyError\u001b[0m\u001b[0;34m(\u001b[0m\u001b[0mkey\u001b[0m\u001b[0;34m)\u001b[0m \u001b[0;32mfrom\u001b[0m \u001b[0merr\u001b[0m\u001b[0;34m\u001b[0m\u001b[0;34m\u001b[0m\u001b[0m\n\u001b[0m\u001b[1;32m   3805\u001b[0m             \u001b[0;32mexcept\u001b[0m \u001b[0mTypeError\u001b[0m\u001b[0;34m:\u001b[0m\u001b[0;34m\u001b[0m\u001b[0;34m\u001b[0m\u001b[0m\n\u001b[1;32m   3806\u001b[0m                 \u001b[0;31m# If we have a listlike key, _check_indexing_error will raise\u001b[0m\u001b[0;34m\u001b[0m\u001b[0;34m\u001b[0m\u001b[0m\n",
      "\u001b[0;31mKeyError\u001b[0m: 'brewery_type'"
     ]
    }
   ],
   "source": [
    "# Create a sample dataframe with an text index\n",
    "from matplotlib import pyplot as plt\n",
    "\n",
    "plot_brewery_type = pd.DataFrame(brewery_to_map['brewery_type']).value_counts()\n",
    "# Plot a bar chart\n",
    "plot_brewery_type.plot(kind=\"bar\")\n",
    "plt.title(\"Types of Breweries\")\n",
    "\n"
   ]
  },
  {
   "cell_type": "code",
   "execution_count": null,
   "id": "3f190a84",
   "metadata": {},
   "outputs": [],
   "source": [
    "plot_brewery_state = pd.DataFrame(brewery_to_map['state']).value_counts()\n",
    "# Plot a bar chart\n",
    "plot_brewery_state.plot(kind=\"bar\")\n",
    "plt.title(\"States of Breweries\")"
   ]
  },
  {
   "cell_type": "markdown",
   "id": "80a20bbc",
   "metadata": {},
   "source": [
    "## Webscraping\n",
    "untapped brewery\n"
   ]
  },
  {
   "cell_type": "code",
   "execution_count": 2,
   "id": "1c409a2c",
   "metadata": {},
   "outputs": [
    {
     "data": {
      "text/plain": [
       "'/Users/kelly.paredes/opt/anaconda3/bin'"
      ]
     },
     "execution_count": 2,
     "metadata": {},
     "output_type": "execute_result"
    }
   ],
   "source": [
    "from splinter import Browser\n",
    "import csv\n",
    "import os\n",
    "import sys\n",
    "import time\n",
    "os.path.dirname(sys.executable)"
   ]
  },
  {
   "cell_type": "code",
   "execution_count": null,
   "id": "fcaabfd6",
   "metadata": {},
   "outputs": [],
   "source": [
    "#browser = webdriver.Chrome()\n",
    "global browser\n",
    "browser = Browser('chrome')\n",
    "#https://untappd.com/brewery/top_rated?country=united-states\n"
   ]
  },
  {
   "cell_type": "code",
   "execution_count": null,
   "id": "d9246cfa",
   "metadata": {},
   "outputs": [],
   "source": [
    "brew_types = ['macro_brewery', 'micro_brewery', 'nano_brewery', 'brew_pub','cidery','meadery',\n",
    "              'contract_brewery', 'regional_brewery']\n",
    "\n",
    "all_brewery_info = []\n",
    "\n",
    "#for types in brew_types:\n",
    "url_untapped = f'https://untappd.com/brewery/top_rated?brewery_type=micro_brewery'\n",
    "browser.visit(url_untapped)\n",
    "time.sleep(5)\n",
    "breweries = browser.find_by_xpath('//*[@id=\"slide\"]/div[3]/div/div[1]/div/div[4]')\n",
    "for brewery in breweries:\n",
    "    title_link = brewery.text\n",
    "    all_brewery_info.append(title_link)\n",
    "    time.sleep(1)\n",
    "\n"
   ]
  },
  {
   "cell_type": "code",
   "execution_count": 34,
   "id": "b9ec00f5",
   "metadata": {},
   "outputs": [
    {
     "name": "stdout",
     "output_type": "stream",
     "text": [
      "[]\n"
     ]
    }
   ],
   "source": [
    "print(all_brewery_info)"
   ]
  },
  {
   "cell_type": "code",
   "execution_count": null,
   "id": "8ab509a0",
   "metadata": {},
   "outputs": [],
   "source": [
    "# open file in write mode\n",
    "import re\n",
    "\n",
    "with open(r'all_breweries_list.txt', 'w') as fp:\n",
    "    for item in all_brewery_info:\n",
    "        # write each item on a new line\n",
    "        fp.write(item)\n"
   ]
  },
  {
   "cell_type": "code",
   "execution_count": null,
   "id": "732b544b",
   "metadata": {},
   "outputs": [],
   "source": [
    "#pattern = r\"\\(\\d+\\.\\d+?)\\s\""
   ]
  },
  {
   "cell_type": "code",
   "execution_count": null,
   "id": "c5588dd7",
   "metadata": {},
   "outputs": [],
   "source": [
    "# def convert_to_dictionary(all_brewer_info):   \n",
    "#     brewery_list_all = []\n",
    "\n",
    "#     brewery_list = all_brewery_info[0].split(\"\\n\")\n",
    "#     brewery_list.remove(\"Report Ad\")\n",
    "#     i = 0\n",
    "\n",
    "#     while i < len(brewery_list):\n",
    "#         try: \n",
    "#             brewery = brewery_list[i:i+5]\n",
    "#             #print(brewery)\n",
    "#             dictionary = dict()\n",
    "#             dictionary['brewery_name'] = brewery[0]\n",
    "#             dictionary['brewery_location'] = brewery[1]\n",
    "#             dictionary['brewery_type'] = brewery[2]\n",
    "#             dictionary['number_beers'] = brewery[3]\n",
    "#             dictionary['brewery_ratings'] = brewery[4]\n",
    "#         except IndexError:\n",
    "#             print(f\"This batch broke: {brewery}\")\n",
    "#             break\n",
    "#         brewery_list_all.append(dictionary)\n",
    "#         i += 5\n",
    "\n",
    "    \n",
    "# from pprint import pprint\n",
    "# pprint(brewery_list_all)"
   ]
  },
  {
   "cell_type": "code",
   "execution_count": null,
   "id": "8da81e64",
   "metadata": {},
   "outputs": [],
   "source": [
    "print(len(brewery_list_all))"
   ]
  },
  {
   "cell_type": "code",
   "execution_count": null,
   "id": "a3685acf",
   "metadata": {},
   "outputs": [],
   "source": [
    "untapped_macros_df = pd.DataFrame(brewery_list_all)"
   ]
  },
  {
   "cell_type": "code",
   "execution_count": null,
   "id": "c82942a9",
   "metadata": {},
   "outputs": [],
   "source": [
    "untapped_macros_df.to_csv(\"untapped_macros.csv\")"
   ]
  },
  {
   "cell_type": "code",
   "execution_count": 35,
   "id": "db4439da",
   "metadata": {},
   "outputs": [],
   "source": [
    "#browser = webdriver.Chrome()\n",
    "global browser\n",
    "browser = Browser('chrome')\n",
    "#https://untappd.com/brewery/top_rated?country=united-states"
   ]
  },
  {
   "cell_type": "code",
   "execution_count": 36,
   "id": "13f93597",
   "metadata": {},
   "outputs": [
    {
     "ename": "WebDriverException",
     "evalue": "Message: unknown error: net::ERR_CONNECTION_RESET\n  (Session info: chrome=111.0.5563.110)\nStacktrace:\n0   chromedriver                        0x0000000104d12428 chromedriver + 4899880\n1   chromedriver                        0x0000000104c8fa23 chromedriver + 4364835\n2   chromedriver                        0x00000001048d9bf6 chromedriver + 474102\n3   chromedriver                        0x00000001048d180b chromedriver + 440331\n4   chromedriver                        0x00000001048c316c chromedriver + 381292\n5   chromedriver                        0x00000001048c4bc1 chromedriver + 388033\n6   chromedriver                        0x00000001048c34f6 chromedriver + 382198\n7   chromedriver                        0x00000001048c2216 chromedriver + 377366\n8   chromedriver                        0x00000001048c208b chromedriver + 376971\n9   chromedriver                        0x00000001048c08ba chromedriver + 370874\n10  chromedriver                        0x00000001048c0c7d chromedriver + 371837\n11  chromedriver                        0x00000001048dbee6 chromedriver + 483046\n12  chromedriver                        0x000000010495f1c1 chromedriver + 1020353\n13  chromedriver                        0x0000000104943562 chromedriver + 906594\n14  chromedriver                        0x000000010495eb5b chromedriver + 1018715\n15  chromedriver                        0x0000000104943333 chromedriver + 906035\n16  chromedriver                        0x000000010490d55f chromedriver + 685407\n17  chromedriver                        0x000000010490ea7e chromedriver + 690814\n18  chromedriver                        0x0000000104cdf79e chromedriver + 4691870\n19  chromedriver                        0x0000000104ce4961 chromedriver + 4712801\n20  chromedriver                        0x0000000104ceb2ff chromedriver + 4739839\n21  chromedriver                        0x0000000104ce585a chromedriver + 4716634\n22  chromedriver                        0x0000000104cb7fce chromedriver + 4530126\n23  chromedriver                        0x0000000104d055c8 chromedriver + 4847048\n24  chromedriver                        0x0000000104d05747 chromedriver + 4847431\n25  chromedriver                        0x0000000104d1a87f chromedriver + 4933759\n26  libsystem_pthread.dylib             0x00007ff81443d4e1 _pthread_start + 125\n27  libsystem_pthread.dylib             0x00007ff814438f6b thread_start + 15\n",
     "output_type": "error",
     "traceback": [
      "\u001b[0;31m---------------------------------------------------------------------------\u001b[0m",
      "\u001b[0;31mWebDriverException\u001b[0m                        Traceback (most recent call last)",
      "\u001b[0;32m/var/folders/lt/r23wrnp91wx9lpfj7gr25m3rgb08gl/T/ipykernel_5775/597609880.py\u001b[0m in \u001b[0;36m<module>\u001b[0;34m\u001b[0m\n\u001b[1;32m      3\u001b[0m \u001b[0;34m\u001b[0m\u001b[0m\n\u001b[1;32m      4\u001b[0m \u001b[0murl_untapped\u001b[0m \u001b[0;34m=\u001b[0m \u001b[0;34mf'https://untappd.com/brewery/top_rated?country=belgium&brewery_type=macro_brewery'\u001b[0m\u001b[0;34m\u001b[0m\u001b[0;34m\u001b[0m\u001b[0m\n\u001b[0;32m----> 5\u001b[0;31m \u001b[0mbrowser\u001b[0m\u001b[0;34m.\u001b[0m\u001b[0mvisit\u001b[0m\u001b[0;34m(\u001b[0m\u001b[0murl_untapped\u001b[0m\u001b[0;34m)\u001b[0m\u001b[0;34m\u001b[0m\u001b[0;34m\u001b[0m\u001b[0m\n\u001b[0m\u001b[1;32m      6\u001b[0m \u001b[0;34m\u001b[0m\u001b[0m\n\u001b[1;32m      7\u001b[0m \u001b[0mtime\u001b[0m\u001b[0;34m.\u001b[0m\u001b[0msleep\u001b[0m\u001b[0;34m(\u001b[0m\u001b[0;36m5\u001b[0m\u001b[0;34m)\u001b[0m\u001b[0;34m\u001b[0m\u001b[0;34m\u001b[0m\u001b[0m\n",
      "\u001b[0;32m~/opt/anaconda3/lib/python3.9/site-packages/splinter/driver/webdriver/__init__.py\u001b[0m in \u001b[0;36mvisit\u001b[0;34m(self, url)\u001b[0m\n\u001b[1;32m    321\u001b[0m \u001b[0;34m\u001b[0m\u001b[0m\n\u001b[1;32m    322\u001b[0m     \u001b[0;32mdef\u001b[0m \u001b[0mvisit\u001b[0m\u001b[0;34m(\u001b[0m\u001b[0mself\u001b[0m\u001b[0;34m,\u001b[0m \u001b[0murl\u001b[0m\u001b[0;34m)\u001b[0m\u001b[0;34m:\u001b[0m\u001b[0;34m\u001b[0m\u001b[0;34m\u001b[0m\u001b[0m\n\u001b[0;32m--> 323\u001b[0;31m         \u001b[0mself\u001b[0m\u001b[0;34m.\u001b[0m\u001b[0mdriver\u001b[0m\u001b[0;34m.\u001b[0m\u001b[0mget\u001b[0m\u001b[0;34m(\u001b[0m\u001b[0murl\u001b[0m\u001b[0;34m)\u001b[0m\u001b[0;34m\u001b[0m\u001b[0;34m\u001b[0m\u001b[0m\n\u001b[0m\u001b[1;32m    324\u001b[0m \u001b[0;34m\u001b[0m\u001b[0m\n\u001b[1;32m    325\u001b[0m     \u001b[0;32mdef\u001b[0m \u001b[0mback\u001b[0m\u001b[0;34m(\u001b[0m\u001b[0mself\u001b[0m\u001b[0;34m)\u001b[0m\u001b[0;34m:\u001b[0m\u001b[0;34m\u001b[0m\u001b[0;34m\u001b[0m\u001b[0m\n",
      "\u001b[0;32m~/opt/anaconda3/lib/python3.9/site-packages/selenium/webdriver/remote/webdriver.py\u001b[0m in \u001b[0;36mget\u001b[0;34m(self, url)\u001b[0m\n\u001b[1;32m    447\u001b[0m     \u001b[0;32mdef\u001b[0m \u001b[0mget\u001b[0m\u001b[0;34m(\u001b[0m\u001b[0mself\u001b[0m\u001b[0;34m,\u001b[0m \u001b[0murl\u001b[0m\u001b[0;34m:\u001b[0m \u001b[0mstr\u001b[0m\u001b[0;34m)\u001b[0m \u001b[0;34m->\u001b[0m \u001b[0;32mNone\u001b[0m\u001b[0;34m:\u001b[0m\u001b[0;34m\u001b[0m\u001b[0;34m\u001b[0m\u001b[0m\n\u001b[1;32m    448\u001b[0m         \u001b[0;34m\"\"\"Loads a web page in the current browser session.\"\"\"\u001b[0m\u001b[0;34m\u001b[0m\u001b[0;34m\u001b[0m\u001b[0m\n\u001b[0;32m--> 449\u001b[0;31m         \u001b[0mself\u001b[0m\u001b[0;34m.\u001b[0m\u001b[0mexecute\u001b[0m\u001b[0;34m(\u001b[0m\u001b[0mCommand\u001b[0m\u001b[0;34m.\u001b[0m\u001b[0mGET\u001b[0m\u001b[0;34m,\u001b[0m \u001b[0;34m{\u001b[0m\u001b[0;34m\"url\"\u001b[0m\u001b[0;34m:\u001b[0m \u001b[0murl\u001b[0m\u001b[0;34m}\u001b[0m\u001b[0;34m)\u001b[0m\u001b[0;34m\u001b[0m\u001b[0;34m\u001b[0m\u001b[0m\n\u001b[0m\u001b[1;32m    450\u001b[0m \u001b[0;34m\u001b[0m\u001b[0m\n\u001b[1;32m    451\u001b[0m     \u001b[0;34m@\u001b[0m\u001b[0mproperty\u001b[0m\u001b[0;34m\u001b[0m\u001b[0;34m\u001b[0m\u001b[0m\n",
      "\u001b[0;32m~/opt/anaconda3/lib/python3.9/site-packages/selenium/webdriver/remote/webdriver.py\u001b[0m in \u001b[0;36mexecute\u001b[0;34m(self, driver_command, params)\u001b[0m\n\u001b[1;32m    438\u001b[0m         \u001b[0mresponse\u001b[0m \u001b[0;34m=\u001b[0m \u001b[0mself\u001b[0m\u001b[0;34m.\u001b[0m\u001b[0mcommand_executor\u001b[0m\u001b[0;34m.\u001b[0m\u001b[0mexecute\u001b[0m\u001b[0;34m(\u001b[0m\u001b[0mdriver_command\u001b[0m\u001b[0;34m,\u001b[0m \u001b[0mparams\u001b[0m\u001b[0;34m)\u001b[0m\u001b[0;34m\u001b[0m\u001b[0;34m\u001b[0m\u001b[0m\n\u001b[1;32m    439\u001b[0m         \u001b[0;32mif\u001b[0m \u001b[0mresponse\u001b[0m\u001b[0;34m:\u001b[0m\u001b[0;34m\u001b[0m\u001b[0;34m\u001b[0m\u001b[0m\n\u001b[0;32m--> 440\u001b[0;31m             \u001b[0mself\u001b[0m\u001b[0;34m.\u001b[0m\u001b[0merror_handler\u001b[0m\u001b[0;34m.\u001b[0m\u001b[0mcheck_response\u001b[0m\u001b[0;34m(\u001b[0m\u001b[0mresponse\u001b[0m\u001b[0;34m)\u001b[0m\u001b[0;34m\u001b[0m\u001b[0;34m\u001b[0m\u001b[0m\n\u001b[0m\u001b[1;32m    441\u001b[0m             \u001b[0mresponse\u001b[0m\u001b[0;34m[\u001b[0m\u001b[0;34m\"value\"\u001b[0m\u001b[0;34m]\u001b[0m \u001b[0;34m=\u001b[0m \u001b[0mself\u001b[0m\u001b[0;34m.\u001b[0m\u001b[0m_unwrap_value\u001b[0m\u001b[0;34m(\u001b[0m\u001b[0mresponse\u001b[0m\u001b[0;34m.\u001b[0m\u001b[0mget\u001b[0m\u001b[0;34m(\u001b[0m\u001b[0;34m\"value\"\u001b[0m\u001b[0;34m,\u001b[0m \u001b[0;32mNone\u001b[0m\u001b[0;34m)\u001b[0m\u001b[0;34m)\u001b[0m\u001b[0;34m\u001b[0m\u001b[0;34m\u001b[0m\u001b[0m\n\u001b[1;32m    442\u001b[0m             \u001b[0;32mreturn\u001b[0m \u001b[0mresponse\u001b[0m\u001b[0;34m\u001b[0m\u001b[0;34m\u001b[0m\u001b[0m\n",
      "\u001b[0;32m~/opt/anaconda3/lib/python3.9/site-packages/selenium/webdriver/remote/errorhandler.py\u001b[0m in \u001b[0;36mcheck_response\u001b[0;34m(self, response)\u001b[0m\n\u001b[1;32m    243\u001b[0m                 \u001b[0malert_text\u001b[0m \u001b[0;34m=\u001b[0m \u001b[0mvalue\u001b[0m\u001b[0;34m[\u001b[0m\u001b[0;34m\"alert\"\u001b[0m\u001b[0;34m]\u001b[0m\u001b[0;34m.\u001b[0m\u001b[0mget\u001b[0m\u001b[0;34m(\u001b[0m\u001b[0;34m\"text\"\u001b[0m\u001b[0;34m)\u001b[0m\u001b[0;34m\u001b[0m\u001b[0;34m\u001b[0m\u001b[0m\n\u001b[1;32m    244\u001b[0m             \u001b[0;32mraise\u001b[0m \u001b[0mexception_class\u001b[0m\u001b[0;34m(\u001b[0m\u001b[0mmessage\u001b[0m\u001b[0;34m,\u001b[0m \u001b[0mscreen\u001b[0m\u001b[0;34m,\u001b[0m \u001b[0mstacktrace\u001b[0m\u001b[0;34m,\u001b[0m \u001b[0malert_text\u001b[0m\u001b[0;34m)\u001b[0m  \u001b[0;31m# type: ignore[call-arg]  # mypy is not smart enough here\u001b[0m\u001b[0;34m\u001b[0m\u001b[0;34m\u001b[0m\u001b[0m\n\u001b[0;32m--> 245\u001b[0;31m         \u001b[0;32mraise\u001b[0m \u001b[0mexception_class\u001b[0m\u001b[0;34m(\u001b[0m\u001b[0mmessage\u001b[0m\u001b[0;34m,\u001b[0m \u001b[0mscreen\u001b[0m\u001b[0;34m,\u001b[0m \u001b[0mstacktrace\u001b[0m\u001b[0;34m)\u001b[0m\u001b[0;34m\u001b[0m\u001b[0;34m\u001b[0m\u001b[0m\n\u001b[0m",
      "\u001b[0;31mWebDriverException\u001b[0m: Message: unknown error: net::ERR_CONNECTION_RESET\n  (Session info: chrome=111.0.5563.110)\nStacktrace:\n0   chromedriver                        0x0000000104d12428 chromedriver + 4899880\n1   chromedriver                        0x0000000104c8fa23 chromedriver + 4364835\n2   chromedriver                        0x00000001048d9bf6 chromedriver + 474102\n3   chromedriver                        0x00000001048d180b chromedriver + 440331\n4   chromedriver                        0x00000001048c316c chromedriver + 381292\n5   chromedriver                        0x00000001048c4bc1 chromedriver + 388033\n6   chromedriver                        0x00000001048c34f6 chromedriver + 382198\n7   chromedriver                        0x00000001048c2216 chromedriver + 377366\n8   chromedriver                        0x00000001048c208b chromedriver + 376971\n9   chromedriver                        0x00000001048c08ba chromedriver + 370874\n10  chromedriver                        0x00000001048c0c7d chromedriver + 371837\n11  chromedriver                        0x00000001048dbee6 chromedriver + 483046\n12  chromedriver                        0x000000010495f1c1 chromedriver + 1020353\n13  chromedriver                        0x0000000104943562 chromedriver + 906594\n14  chromedriver                        0x000000010495eb5b chromedriver + 1018715\n15  chromedriver                        0x0000000104943333 chromedriver + 906035\n16  chromedriver                        0x000000010490d55f chromedriver + 685407\n17  chromedriver                        0x000000010490ea7e chromedriver + 690814\n18  chromedriver                        0x0000000104cdf79e chromedriver + 4691870\n19  chromedriver                        0x0000000104ce4961 chromedriver + 4712801\n20  chromedriver                        0x0000000104ceb2ff chromedriver + 4739839\n21  chromedriver                        0x0000000104ce585a chromedriver + 4716634\n22  chromedriver                        0x0000000104cb7fce chromedriver + 4530126\n23  chromedriver                        0x0000000104d055c8 chromedriver + 4847048\n24  chromedriver                        0x0000000104d05747 chromedriver + 4847431\n25  chromedriver                        0x0000000104d1a87f chromedriver + 4933759\n26  libsystem_pthread.dylib             0x00007ff81443d4e1 _pthread_start + 125\n27  libsystem_pthread.dylib             0x00007ff814438f6b thread_start + 15\n"
     ]
    }
   ],
   "source": [
    "#brew_types = ['macro_brewery','micro_brewery','nano_brewery','brew_pub','cidery','meadery','contract_brewery', 'regional_brewery']\n",
    "all_brewery_info = []\n",
    "\n",
    "url_untapped = f'https://untappd.com/brewery/top_rated?country=belgium&brewery_type=macro_brewery'\n",
    "browser.visit(url_untapped)\n",
    "\n",
    "time.sleep(5)\n",
    "breweries = browser.find_by_xpath('//*[@id=\"slide\"]/div[3]/div/div[1]/div/div[4]')\n",
    "for brewery in breweries:\n",
    "    title_link = brewery.text\n",
    "    all_brewery_info.append(title_link)\n",
    "    time.sleep(1)\n"
   ]
  },
  {
   "cell_type": "code",
   "execution_count": 28,
   "id": "56071836",
   "metadata": {},
   "outputs": [
    {
     "data": {
      "text/plain": [
       "[\"Founders Brewing Co.\\nGrand Rapids, MI United States\\nMacro Brewery\\n966 Beers 7,169,330 Ratings\\n(3.962)\\nWicked Weed Brewing\\nAsheville, NC United States\\nMacro Brewery\\n748 Beers 1,804,971 Ratings\\n(3.919)\\nAvery Brewing Co.\\nBoulder, CO United States\\nMacro Brewery\\n532 Beers 2,239,970 Ratings\\n(3.891)\\nFunky Buddha Brewery\\nOakland Park, FL United States\\nMacro Brewery\\n1,135 Beers 832,676 Ratings\\n(3.891)\\nGoose Island Beer Co.\\nChicago, IL United States\\nMacro Brewery\\n1,375 Beers 5,593,231 Ratings\\n(3.885)\\nAC Golden Brewing Co.\\nGolden, CO United States\\nMacro Brewery\\n104 Beers 16,509 Ratings\\n(3.866)\\nBell's Brewery\\nComstock, MI United States\\nMacro Brewery\\n675 Beers 4,524,174 Ratings\\n(3.849)\\nLagunitas Brewing Company\\nPetaluma, CA United States\\nMacro Brewery\\n781 Beers 5,463,748 Ratings\\n(3.81)\\nNot Your Father’s\\nWauconda, IL United States\\nMacro Brewery\\n90 Beers 375,328 Ratings\\n(3.808)\\nTerrapin Beer Co.\\nAthens, GA United States\\nMacro Brewery\\n545 Beers 1,605,890 Ratings\\n(3.746)\\nReport Ad\\nElysian Brewing Company\\nSeattle, WA United States\\nMacro Brewery\\n779 Beers 1,502,096 Ratings\\n(3.74)\\nAppalachian Mountain Brewery\\nBoone, NC United States\\nMacro Brewery\\n331 Beers 165,986 Ratings\\n(3.732)\\nGuinness Open Gate Brewery\\nHalethorpe, MD United States\\nMacro Brewery\\n319 Beers 173,787 Ratings\\n(3.726)\\nPlatform Beer Company\\nCleveland, OH United States\\nMacro Brewery\\n1,249 Beers 672,680 Ratings\\n(3.724)\\nWinding Path Brewing Co.\\nDallastown, PA United States\\nMacro Brewery\\n40 Beers 42,721 Ratings\\n(3.719)\\nKarbach Brewing Co.\\nHouston, TX United States\\nMacro Brewery\\n194 Beers 645,987 Ratings\\n(3.71)\\nSecret Llama\\nLakeland, FL United States\\nMacro Brewery\\n17 Beers 10,536 Ratings\\n(3.699)\\n10 Barrel Brewing Co.\\nBend, OR United States\\nMacro Brewery\\n1,584 Beers 740,590 Ratings\\n(3.663)\\nGolden Road Brewing\\nLos Angeles, CA United States\\nMacro Brewery\\n825 Beers 818,433 Ratings\\n(3.659)\\nFour Peaks Brewing Company\\nTempe, AZ United States\\nMacro Brewery\\n379 Beers 369,394 Ratings\\n(3.655)\\nRevolver Brewing\\nGranbury, TX United States\\nMacro Brewery\\n141 Beers 188,958 Ratings\\n(3.642)\\nVeza Sur Brewing Co.\\nMiami, FL United States\\nMacro Brewery\\n97 Beers 46,308 Ratings\\n(3.633)\\nNew Belgium Brewing Company\\nFort Collins, CO United States\\nMacro Brewery\\n623 Beers 6,147,456 Ratings\\n(3.632)\\nWynwood Brewing Company\\nMiami, FL United States\\nMacro Brewery\\n473 Beers 95,698 Ratings\\n(3.624)\\nSimply Spiked\\nMilwaukee, WI United States\\nMacro Brewery\\n8 Beers 7,093 Ratings\\n(3.623)\\nBreckenridge Brewery\\nLittleton, CO United States\\nMacro Brewery\\n823 Beers 1,444,597 Ratings\\n(3.622)\\nDevils Backbone Brewing Company\\nRoseland, VA United States\\nMacro Brewery\\n723 Beers 748,468 Ratings\\n(3.585)\\nWidmer Brothers Brewing\\nPortland, OR United States\\nMacro Brewery\\n553 Beers 596,339 Ratings\\n(3.528)\\nKona Brewing Company\\nKailua Kona, HI United States\\nMacro Brewery\\n171 Beers 1,752,400 Ratings\\n(3.524)\\nAnchor Brewing Company\\nSan Francisco, CA United States\\nMacro Brewery\\n327 Beers 1,370,283 Ratings\\n(3.523)\\nBlue Point Brewing Company\\nPatchogue, NY United States\\nMacro Brewery\\n162 Beers 699,542 Ratings\\n(3.521)\\nFour Sixes Grit & Glory\\nUnited States\\nMacro Brewery\\n7 Beers 3,562 Ratings\\n(3.521)\\nKombrewcha Hard Kombucha\\nBrooklyn, NY United States\\nMacro Brewery\\n6 Beers 2,848 Ratings\\n(3.518)\\nPRESS Premium Alcohol Seltzer\\nMilwaukee, WI United States\\nMacro Brewery\\n10 Beers 12,885 Ratings\\n(3.502)\\nCisco Brewers\\nNantucket Island, MA United States\\nMacro Brewery\\n294 Beers 268,688 Ratings\\n(3.472)\\nHenry's Hard Soda\\nMilwaukee, WI United States\\nMacro Brewery\\n7 Beers 58,909 Ratings\\n(3.429)\\nJacob Leinenkugel Brewing Company\\nChippewa Falls, WI United States\\nMacro Brewery\\n302 Beers 1,732,631 Ratings\\n(3.413)\\nBlue Moon Brewing Company\\nDenver, CO United States\\nMacro Brewery\\n609 Beers 1,586,194 Ratings\\n(3.39)\\nVibez\\nAlexandria, VA United States\\nMacro Brewery\\n19 Beers 2,199 Ratings\\n(3.378)\\nJack Daniel's Beverage Co.\\nLouisville, KY United States\\nMacro Brewery\\n12 Beers 13,141 Ratings\\n(3.359)\\nVizzy Hard Seltzer\\nMemphis, TN United States\\nMacro Brewery\\n20 Beers 36,833 Ratings\\n(3.347)\\nGenesee Brewing Company\\nRochester, NY United States\\nMacro Brewery\\n313 Beers 243,287 Ratings\\n(3.334)\\nMalibu Splash\\nNew York, NY United States\\nMacro Brewery\\n5 Beers 3,881 Ratings\\n(3.325)\\nTwo Lane Brewing\\nDaleville, VA United States\\nMacro Brewery\\n5 Beers 4,207 Ratings\\n(3.32)\\nBacardi\\nCoral Gables, FL United States\\nMacro Brewery\\n22 Beers 10,764 Ratings\\n(3.272)\\nShock Top Brewing Co.\\nSt Louis, MO United States\\nMacro Brewery\\n47 Beers 718,271 Ratings\\n(3.259)\\nMargaritaville Brewing Co.\\nSt. Louis, MO United States\\nMacro Brewery\\n15 Beers 163,720 Ratings\\n(3.224)\\nOmission Brewing\\nPortland, OR United States\\nMacro Brewery\\n22 Beers 142,373 Ratings\\n(3.216)\\nRedd's Brewing Company\\nMilwaukee, WI United States\\nMacro Brewery\\n29 Beers 185,787 Ratings\\n(3.194)\\nBoathouse Beverage Co.\\nNorwalk, CT United States\\nMacro Brewery\\n9 Beers 34,913 Ratings\\n(3.143)\"]"
      ]
     },
     "execution_count": 28,
     "metadata": {},
     "output_type": "execute_result"
    }
   ],
   "source": [
    "all_brewery_info"
   ]
  },
  {
   "cell_type": "code",
   "execution_count": 29,
   "id": "4351a730",
   "metadata": {},
   "outputs": [],
   "source": [
    "for item in all_brewery_info:\n",
    "    if item == \"Report\":\n",
    "        all_brewery_info.remove(\"Report Ad\")"
   ]
  },
  {
   "cell_type": "code",
   "execution_count": 30,
   "id": "27ed14af",
   "metadata": {},
   "outputs": [],
   "source": [
    "def convert_to_dictionary(all_brewery_info):   \n",
    "    brewery_list_all = []\n",
    "\n",
    "    brewery_list = all_brewery_info[0].split(\"\\n\")\n",
    "    brewery_list.remove(\"Report Ad\")\n",
    "    i = 0\n",
    "\n",
    "    while i < len(brewery_list):\n",
    "#         if i == \"Report Ad\":\n",
    "#             brewery_list.remove(\"Report Ad\")\n",
    "#         else:\n",
    "        try: \n",
    "            brewery = brewery_list[i:i+5]\n",
    "            #print(brewery)\n",
    "            dictionary = dict()\n",
    "            dictionary['brewery_name'] = brewery[0]\n",
    "            dictionary['brewery_location'] = brewery[1]\n",
    "            dictionary['brewery_type'] = brewery[2]\n",
    "            dictionary['number_beers'] = brewery[3]\n",
    "            dictionary['brewery_ratings'] = brewery[4]\n",
    "        except IndexError:\n",
    "            print(f\"This batch broke: {brewery}\")\n",
    "            break\n",
    "        brewery_list_all.append(dictionary)\n",
    "        i += 5\n",
    "    return brewery_list_all\n",
    "    \n"
   ]
  },
  {
   "cell_type": "code",
   "execution_count": 31,
   "id": "10ae80db",
   "metadata": {},
   "outputs": [],
   "source": [
    "import pandas as pd\n",
    "belgium_macros= convert_to_dictionary(all_brewery_info)\n",
    "belgium_macros = pd.DataFrame(belgium_macros)\n",
    "belgium_macros.to_csv(\"belgium_macros.csv\")"
   ]
  },
  {
   "cell_type": "code",
   "execution_count": null,
   "id": "e6687475",
   "metadata": {},
   "outputs": [],
   "source": []
  }
 ],
 "metadata": {
  "kernelspec": {
   "display_name": "Python 3 (ipykernel)",
   "language": "python",
   "name": "python3"
  },
  "language_info": {
   "codemirror_mode": {
    "name": "ipython",
    "version": 3
   },
   "file_extension": ".py",
   "mimetype": "text/x-python",
   "name": "python",
   "nbconvert_exporter": "python",
   "pygments_lexer": "ipython3",
   "version": "3.9.13"
  }
 },
 "nbformat": 4,
 "nbformat_minor": 5
}
