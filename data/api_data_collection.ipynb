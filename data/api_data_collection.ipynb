{
 "cells": [
  {
   "cell_type": "code",
   "execution_count": null,
   "id": "cd9342e0",
   "metadata": {},
   "outputs": [],
   "source": [
    "#8600 rows x 17 columns] breweries"
   ]
  },
  {
   "cell_type": "code",
   "execution_count": null,
   "id": "da16b986",
   "metadata": {},
   "outputs": [],
   "source": [
    "import requests\n",
    "import pandas as pd\n",
    "from bs4 import BeautifulSoup\n",
    "import time\n",
    "import pprint\n"
   ]
  },
  {
   "cell_type": "code",
   "execution_count": null,
   "id": "ca6c0be3",
   "metadata": {},
   "outputs": [],
   "source": [
    "i = 0\n",
    "url = f'https://api.openbrewerydb.org/breweries?page={i}&per_page=200'\n",
    "brewery_list = []\n",
    "for i in range(1,44):\n",
    "    response = requests.get(url)\n",
    "    brewery_data = response.json()\n",
    "    brewery_list.append(brewery_data)\n",
    "    time.sleep(1)\n"
   ]
  },
  {
   "cell_type": "code",
   "execution_count": null,
   "id": "f71672a1",
   "metadata": {},
   "outputs": [],
   "source": [
    "pprint.pprint(brewery_list)"
   ]
  },
  {
   "cell_type": "code",
   "execution_count": null,
   "id": "3c89ed45",
   "metadata": {},
   "outputs": [],
   "source": [
    "from itertools import chain\n",
    "all_brewerys_pd = list(chain.from_iterable(brewery_list))"
   ]
  },
  {
   "cell_type": "code",
   "execution_count": null,
   "id": "3e56bdc9",
   "metadata": {},
   "outputs": [],
   "source": [
    "all_brewerys_pd"
   ]
  },
  {
   "cell_type": "code",
   "execution_count": null,
   "id": "e8963a77",
   "metadata": {},
   "outputs": [],
   "source": [
    "print(len(all_brewerys_pd))"
   ]
  },
  {
   "cell_type": "code",
   "execution_count": null,
   "id": "f99eeb8d",
   "metadata": {},
   "outputs": [],
   "source": [
    "brewery_df = pd.DataFrame.from_records(all_brewerys_pd)\n",
    "print(brewery_df)"
   ]
  },
  {
   "cell_type": "code",
   "execution_count": null,
   "id": "472bec08",
   "metadata": {},
   "outputs": [],
   "source": [
    "brewery_df.describe()"
   ]
  },
  {
   "cell_type": "markdown",
   "id": "b9dd327b",
   "metadata": {},
   "source": []
  },
  {
   "cell_type": "code",
   "execution_count": null,
   "id": "684574c0",
   "metadata": {},
   "outputs": [],
   "source": [
    "brewery_df.to_csv('brewery_list.csv')"
   ]
  },
  {
   "cell_type": "code",
   "execution_count": null,
   "id": "08c1d498",
   "metadata": {},
   "outputs": [],
   "source": [
    "# Create a sample dataframe with an text index\n",
    "from matplotlib import pyplot as plt\n",
    "\n",
    "plot_brewery_type = pd.DataFrame(brewery_df['brewery_type']).value_counts()\n",
    "# Plot a bar chart\n",
    "plot_brewery_type.plot(kind=\"bar\")\n",
    "plt.title(\"Types of Breweries\")\n",
    "\n"
   ]
  },
  {
   "cell_type": "code",
   "execution_count": null,
   "id": "3f190a84",
   "metadata": {},
   "outputs": [],
   "source": [
    "plot_brewery_state = pd.DataFrame(brewery_df['state']).value_counts()\n",
    "# Plot a bar chart\n",
    "plot_brewery_state.plot(kind=\"bar\")\n",
    "plt.title(\"States of Breweries\")"
   ]
  },
  {
   "cell_type": "markdown",
   "id": "80a20bbc",
   "metadata": {},
   "source": [
    "## Webscraping\n",
    "untapped brewery\n"
   ]
  },
  {
   "cell_type": "code",
   "execution_count": 1,
   "id": "1c409a2c",
   "metadata": {},
   "outputs": [
    {
     "data": {
      "text/plain": [
       "'/Users/kelly.paredes/opt/anaconda3/bin'"
      ]
     },
     "execution_count": 1,
     "metadata": {},
     "output_type": "execute_result"
    }
   ],
   "source": [
    "from splinter import Browser\n",
    "import csv\n",
    "import os\n",
    "import sys\n",
    "import time\n",
    "os.path.dirname(sys.executable)"
   ]
  },
  {
   "cell_type": "code",
   "execution_count": null,
   "id": "fcaabfd6",
   "metadata": {},
   "outputs": [],
   "source": [
    "#browser = webdriver.Chrome()\n",
    "global browser\n",
    "browser = Browser('chrome')\n",
    "#https://untappd.com/brewery/top_rated?country=united-states\n"
   ]
  },
  {
   "cell_type": "code",
   "execution_count": null,
   "id": "d9246cfa",
   "metadata": {},
   "outputs": [],
   "source": [
    "brew_types = ['macro_brewery', 'micro_brewery', 'nano_brewery', 'brew_pub','cidery','meadery',\n",
    "              'contract_brewery', 'regional_brewery']\n",
    "\n",
    "all_brewery_info = []\n",
    "\n",
    "for types in brew_types:\n",
    "    url_untapped = f'https://untappd.com/brewery/top_rated?country=united-states&brewery_type={types}'\n",
    "    browser.visit(url_untapped)\n",
    "    time.sleep(5)\n",
    "    breweries = browser.find_by_xpath('//*[@id=\"slide\"]/div[3]/div/div[1]/div/div[4]')\n",
    "    for brewery in breweries:\n",
    "        title_link = brewery.text\n",
    "        all_brewery_info.append(title_link)\n",
    "        time.sleep(1)\n",
    "\n"
   ]
  },
  {
   "cell_type": "code",
   "execution_count": null,
   "id": "b9ec00f5",
   "metadata": {},
   "outputs": [],
   "source": [
    "print(all_brewery_info)"
   ]
  },
  {
   "cell_type": "code",
   "execution_count": null,
   "id": "8ab509a0",
   "metadata": {},
   "outputs": [],
   "source": [
    "# open file in write mode\n",
    "import re\n",
    "\n",
    "with open(r'all_breweries_list.txt', 'w') as fp:\n",
    "    for item in all_brewery_info:\n",
    "        # write each item on a new line\n",
    "        fp.write(item)\n"
   ]
  },
  {
   "cell_type": "code",
   "execution_count": null,
   "id": "732b544b",
   "metadata": {},
   "outputs": [],
   "source": [
    "#pattern = r\"\\(\\d+\\.\\d+?)\\s\""
   ]
  },
  {
   "cell_type": "code",
   "execution_count": null,
   "id": "c5588dd7",
   "metadata": {},
   "outputs": [],
   "source": [
    "# def convert_to_dictionary(all_brewer_info):   \n",
    "#     brewery_list_all = []\n",
    "\n",
    "#     brewery_list = all_brewery_info[0].split(\"\\n\")\n",
    "#     brewery_list.remove(\"Report Ad\")\n",
    "#     i = 0\n",
    "\n",
    "#     while i < len(brewery_list):\n",
    "#         try: \n",
    "#             brewery = brewery_list[i:i+5]\n",
    "#             #print(brewery)\n",
    "#             dictionary = dict()\n",
    "#             dictionary['brewery_name'] = brewery[0]\n",
    "#             dictionary['brewery_location'] = brewery[1]\n",
    "#             dictionary['brewery_type'] = brewery[2]\n",
    "#             dictionary['number_beers'] = brewery[3]\n",
    "#             dictionary['brewery_ratings'] = brewery[4]\n",
    "#         except IndexError:\n",
    "#             print(f\"This batch broke: {brewery}\")\n",
    "#             break\n",
    "#         brewery_list_all.append(dictionary)\n",
    "#         i += 5\n",
    "\n",
    "    \n",
    "# from pprint import pprint\n",
    "# pprint(brewery_list_all)"
   ]
  },
  {
   "cell_type": "code",
   "execution_count": null,
   "id": "8da81e64",
   "metadata": {},
   "outputs": [],
   "source": [
    "print(len(brewery_list_all))"
   ]
  },
  {
   "cell_type": "code",
   "execution_count": null,
   "id": "a3685acf",
   "metadata": {},
   "outputs": [],
   "source": [
    "untapped_macros_df = pd.DataFrame(brewery_list_all)"
   ]
  },
  {
   "cell_type": "code",
   "execution_count": null,
   "id": "c82942a9",
   "metadata": {},
   "outputs": [],
   "source": [
    "untapped_macros_df.to_csv(\"untapped_macros.csv\")"
   ]
  },
  {
   "cell_type": "code",
   "execution_count": 82,
   "id": "db4439da",
   "metadata": {},
   "outputs": [],
   "source": [
    "#browser = webdriver.Chrome()\n",
    "global browser\n",
    "browser = Browser('chrome')\n",
    "#https://untappd.com/brewery/top_rated?country=united-states"
   ]
  },
  {
   "cell_type": "code",
   "execution_count": 84,
   "id": "13f93597",
   "metadata": {},
   "outputs": [],
   "source": [
    "#brew_types = ['macro_brewery','micro_brewery','nano_brewery','brew_pub','cidery','meadery','contract_brewery', 'regional_brewery']\n",
    "all_brewery_info = []\n",
    "\n",
    "url_untapped = f'https://untappd.com/brewery/top_rated?brewery_type=micro_brewery'\n",
    "time.sleep(5)\n",
    "breweries = browser.find_by_xpath('//*[@id=\"slide\"]/div[3]/div/div[1]/div/div[4]')\n",
    "for brewery in breweries:\n",
    "    title_link = brewery.text\n",
    "    all_brewery_info.append(title_link)\n",
    "    time.sleep(1)\n"
   ]
  },
  {
   "cell_type": "code",
   "execution_count": 76,
   "id": "56071836",
   "metadata": {},
   "outputs": [
    {
     "data": {
      "text/plain": [
       "[]"
      ]
     },
     "execution_count": 76,
     "metadata": {},
     "output_type": "execute_result"
    }
   ],
   "source": [
    "all_brewery_info"
   ]
  },
  {
   "cell_type": "code",
   "execution_count": 65,
   "id": "4351a730",
   "metadata": {},
   "outputs": [],
   "source": [
    "for item in all_brewery_info:\n",
    "    if item == \"Report\":\n",
    "        all_brewery_info.remove(\"Report Ad\")"
   ]
  },
  {
   "cell_type": "code",
   "execution_count": 66,
   "id": "27ed14af",
   "metadata": {},
   "outputs": [],
   "source": [
    "def convert_to_dictionary(all_brewery_info):   \n",
    "    brewery_list_all = []\n",
    "\n",
    "    brewery_list = all_brewery_info[0].split(\"\\n\")\n",
    "    brewery_list.remove(\"Report Ad\")\n",
    "    i = 0\n",
    "\n",
    "    while i < len(brewery_list):\n",
    "#         if i == \"Report Ad\":\n",
    "#             brewery_list.remove(\"Report Ad\")\n",
    "#         else:\n",
    "        try: \n",
    "            brewery = brewery_list[i:i+5]\n",
    "            #print(brewery)\n",
    "            dictionary = dict()\n",
    "            dictionary['brewery_name'] = brewery[0]\n",
    "            dictionary['brewery_location'] = brewery[1]\n",
    "            dictionary['brewery_type'] = brewery[2]\n",
    "            dictionary['number_beers'] = brewery[3]\n",
    "            dictionary['brewery_ratings'] = brewery[4]\n",
    "        except IndexError:\n",
    "            print(f\"This batch broke: {brewery}\")\n",
    "            break\n",
    "        brewery_list_all.append(dictionary)\n",
    "        i += 5\n",
    "    return brewery_list_all\n",
    "    \n"
   ]
  },
  {
   "cell_type": "code",
   "execution_count": 67,
   "id": "10ae80db",
   "metadata": {},
   "outputs": [],
   "source": [
    "import pandas as pd\n",
    "untapped_macros_us_brewery= convert_to_dictionary(all_brewery_info)\n",
    "untapped_macros_us_brewery_df = pd.DataFrame(untapped_macros_us_brewery)\n",
    "untapped_macros_us_brewery_df.to_csv(\"untapped_macros_us_brewery.csv\")"
   ]
  },
  {
   "cell_type": "code",
   "execution_count": null,
   "id": "e6687475",
   "metadata": {},
   "outputs": [],
   "source": []
  }
 ],
 "metadata": {
  "kernelspec": {
   "display_name": "Python 3 (ipykernel)",
   "language": "python",
   "name": "python3"
  },
  "language_info": {
   "codemirror_mode": {
    "name": "ipython",
    "version": 3
   },
   "file_extension": ".py",
   "mimetype": "text/x-python",
   "name": "python",
   "nbconvert_exporter": "python",
   "pygments_lexer": "ipython3",
   "version": "3.9.13"
  }
 },
 "nbformat": 4,
 "nbformat_minor": 5
}
