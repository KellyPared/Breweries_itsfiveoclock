{
 "cells": [
  {
   "cell_type": "code",
   "execution_count": null,
   "id": "cd9342e0",
   "metadata": {},
   "outputs": [],
   "source": [
    "#8600 rows x 17 columns] breweries"
   ]
  },
  {
   "cell_type": "code",
   "execution_count": 26,
   "id": "da16b986",
   "metadata": {},
   "outputs": [],
   "source": [
    "import requests\n",
    "import pandas as pd\n",
    "from bs4 import BeautifulSoup\n",
    "import time\n",
    "import pprint\n"
   ]
  },
  {
   "cell_type": "code",
   "execution_count": null,
   "id": "ca6c0be3",
   "metadata": {},
   "outputs": [],
   "source": [
    "i = 0\n",
    "url = f'https://api.openbrewerydb.org/breweries?page={i}&per_page=200'\n",
    "brewery_list = []\n",
    "for i in range(1,44):\n",
    "    response = requests.get(url)\n",
    "    brewery_data = response.json()\n",
    "    brewery_list.append(brewery_data)\n",
    "    time.sleep(1)\n"
   ]
  },
  {
   "cell_type": "code",
   "execution_count": null,
   "id": "f71672a1",
   "metadata": {},
   "outputs": [],
   "source": [
    "pprint.pprint(brewery_list)"
   ]
  },
  {
   "cell_type": "code",
   "execution_count": null,
   "id": "3c89ed45",
   "metadata": {},
   "outputs": [],
   "source": [
    "from itertools import chain\n",
    "all_brewerys_pd = list(chain.from_iterable(brewery_list))"
   ]
  },
  {
   "cell_type": "code",
   "execution_count": null,
   "id": "3e56bdc9",
   "metadata": {},
   "outputs": [],
   "source": [
    "all_brewerys_pd"
   ]
  },
  {
   "cell_type": "code",
   "execution_count": null,
   "id": "e8963a77",
   "metadata": {},
   "outputs": [],
   "source": [
    "print(len(all_brewerys_pd))"
   ]
  },
  {
   "cell_type": "code",
   "execution_count": null,
   "id": "f99eeb8d",
   "metadata": {},
   "outputs": [],
   "source": [
    "brewery_df = pd.DataFrame.from_records(all_brewerys_pd)\n",
    "print(brewery_df)"
   ]
  },
  {
   "cell_type": "code",
   "execution_count": null,
   "id": "472bec08",
   "metadata": {},
   "outputs": [],
   "source": [
    "brewery_df.describe()"
   ]
  },
  {
   "cell_type": "markdown",
   "id": "b9dd327b",
   "metadata": {},
   "source": []
  },
  {
   "cell_type": "code",
   "execution_count": null,
   "id": "684574c0",
   "metadata": {},
   "outputs": [],
   "source": [
    "brewery_df.to_csv('brewery_list.csv')"
   ]
  },
  {
   "cell_type": "code",
   "execution_count": null,
   "id": "08c1d498",
   "metadata": {},
   "outputs": [],
   "source": [
    "# Create a sample dataframe with an text index\n",
    "from matplotlib import pyplot as plt\n",
    "\n",
    "plot_brewery_type = pd.DataFrame(brewery_df['brewery_type']).value_counts()\n",
    "# Plot a bar chart\n",
    "plot_brewery_type.plot(kind=\"bar\")\n",
    "plt.title(\"Types of Breweries\")\n",
    "\n"
   ]
  },
  {
   "cell_type": "code",
   "execution_count": null,
   "id": "3f190a84",
   "metadata": {},
   "outputs": [],
   "source": [
    "plot_brewery_state = pd.DataFrame(brewery_df['state']).value_counts()\n",
    "# Plot a bar chart\n",
    "plot_brewery_state.plot(kind=\"bar\")\n",
    "plt.title(\"States of Breweries\")"
   ]
  },
  {
   "cell_type": "markdown",
   "id": "80a20bbc",
   "metadata": {},
   "source": [
    "## Webscraping\n",
    "untapped brewery\n"
   ]
  },
  {
   "cell_type": "code",
   "execution_count": 27,
   "id": "1c409a2c",
   "metadata": {},
   "outputs": [
    {
     "data": {
      "text/plain": [
       "'/Users/kelly.paredes/opt/anaconda3/bin'"
      ]
     },
     "execution_count": 27,
     "metadata": {},
     "output_type": "execute_result"
    }
   ],
   "source": [
    "from splinter import Browser\n",
    "import csv\n",
    "import os\n",
    "import sys\n",
    "import time\n",
    "os.path.dirname(sys.executable)"
   ]
  },
  {
   "cell_type": "code",
   "execution_count": 28,
   "id": "fcaabfd6",
   "metadata": {},
   "outputs": [],
   "source": [
    "#browser = webdriver.Chrome()\n",
    "global browser\n",
    "browser = Browser('chrome')\n",
    "#https://untappd.com/brewery/top_rated?country=united-states\n"
   ]
  },
  {
   "cell_type": "code",
   "execution_count": null,
   "id": "d9246cfa",
   "metadata": {},
   "outputs": [],
   "source": [
    "brew_types = ['macro_brewery', 'micro_brewery', 'nano_brewery', 'brew_pub','cidery','meadery',\n",
    "              'contract_brewery', 'regional_brewery']\n",
    "\n",
    "all_brewery_info = []\n",
    "\n",
    "for types in brew_types:\n",
    "    url_untapped = f'https://untappd.com/brewery/top_rated?country=united-states&brewery_type={types}'\n",
    "    browser.visit(url_untapped)\n",
    "    time.sleep(5)\n",
    "    breweries = browser.find_by_xpath('//*[@id=\"slide\"]/div[3]/div/div[1]/div/div[4]')\n",
    "    for brewery in breweries:\n",
    "        title_link = brewery.text\n",
    "        all_brewery_info.append(title_link)\n",
    "        time.sleep(1)\n",
    "\n"
   ]
  },
  {
   "cell_type": "code",
   "execution_count": null,
   "id": "b9ec00f5",
   "metadata": {},
   "outputs": [],
   "source": [
    "print(all_brewery_info)"
   ]
  },
  {
   "cell_type": "code",
   "execution_count": null,
   "id": "8ab509a0",
   "metadata": {},
   "outputs": [],
   "source": [
    "# open file in write mode\n",
    "import re\n",
    "\n",
    "with open(r'all_breweries_list.txt', 'w') as fp:\n",
    "    for item in all_brewery_info:\n",
    "        # write each item on a new line\n",
    "        fp.write(item)\n"
   ]
  },
  {
   "cell_type": "code",
   "execution_count": null,
   "id": "732b544b",
   "metadata": {},
   "outputs": [],
   "source": [
    "#pattern = r\"\\(\\d+\\.\\d+?)\\s\""
   ]
  },
  {
   "cell_type": "code",
   "execution_count": null,
   "id": "c5588dd7",
   "metadata": {},
   "outputs": [],
   "source": [
    "# def convert_to_dictionary(all_brewer_info):   \n",
    "#     brewery_list_all = []\n",
    "\n",
    "#     brewery_list = all_brewery_info[0].split(\"\\n\")\n",
    "#     brewery_list.remove(\"Report Ad\")\n",
    "#     i = 0\n",
    "\n",
    "#     while i < len(brewery_list):\n",
    "#         try: \n",
    "#             brewery = brewery_list[i:i+5]\n",
    "#             #print(brewery)\n",
    "#             dictionary = dict()\n",
    "#             dictionary['brewery_name'] = brewery[0]\n",
    "#             dictionary['brewery_location'] = brewery[1]\n",
    "#             dictionary['brewery_type'] = brewery[2]\n",
    "#             dictionary['number_beers'] = brewery[3]\n",
    "#             dictionary['brewery_ratings'] = brewery[4]\n",
    "#         except IndexError:\n",
    "#             print(f\"This batch broke: {brewery}\")\n",
    "#             break\n",
    "#         brewery_list_all.append(dictionary)\n",
    "#         i += 5\n",
    "\n",
    "    \n",
    "# from pprint import pprint\n",
    "# pprint(brewery_list_all)"
   ]
  },
  {
   "cell_type": "code",
   "execution_count": null,
   "id": "8da81e64",
   "metadata": {},
   "outputs": [],
   "source": [
    "print(len(brewery_list_all))"
   ]
  },
  {
   "cell_type": "code",
   "execution_count": null,
   "id": "a3685acf",
   "metadata": {},
   "outputs": [],
   "source": [
    "untapped_macros_df = pd.DataFrame(brewery_list_all)"
   ]
  },
  {
   "cell_type": "code",
   "execution_count": null,
   "id": "c82942a9",
   "metadata": {},
   "outputs": [],
   "source": [
    "untapped_macros_df.to_csv(\"untapped_macros.csv\")"
   ]
  },
  {
   "cell_type": "code",
   "execution_count": 30,
   "id": "db4439da",
   "metadata": {},
   "outputs": [],
   "source": [
    "#browser = webdriver.Chrome()\n",
    "global browser\n",
    "browser = Browser('chrome')\n",
    "#https://untappd.com/brewery/top_rated?country=united-states"
   ]
  },
  {
   "cell_type": "code",
   "execution_count": 32,
   "id": "13f93597",
   "metadata": {},
   "outputs": [],
   "source": [
    "#brew_types = ['macro_brewery','micro_brewery','nano_brewery','brew_pub','cidery','meadery','contract_brewery', 'regional_brewery']\n",
    "all_brewery_info = []\n",
    "\n",
    "#https://untappd.com/brewery/top_rated?brewery_type=micro_brewery\n",
    "url_untapped = f'https://untappd.com/brewery/top_rated?brewery_type=micro_brewery'\n",
    "browser.visit(url_untapped)\n",
    "time.sleep(5)\n",
    "breweries = browser.find_by_xpath('//*[@id=\"slide\"]/div[3]/div/div[1]/div/div[4]')\n",
    "for brewery in breweries:\n",
    "    title_link = brewery.text\n",
    "    all_brewery_info.append(title_link)\n",
    "    time.sleep(1)\n"
   ]
  },
  {
   "cell_type": "code",
   "execution_count": 33,
   "id": "56071836",
   "metadata": {},
   "outputs": [
    {
     "data": {
      "text/plain": [
       "[\"Floodland Brewing\\nSeattle, WA United States\\nMicro Brewery\\n11 Beers 40,023 Ratings\\n(4.44)\\nSide Project Brewing\\nSaint Louis, MO United States\\nMicro Brewery\\n239 Beers 447,254 Ratings\\n(4.434)\\nFidens Brewing Co\\nColonie, NY United States\\nMicro Brewery\\n272 Beers 211,516 Ratings\\n(4.393)\\nSmooj\\nAnn Arbor, MI United States\\nMicro Brewery\\n36 Beers 43,083 Ratings\\n(4.39)\\nWeaver Hollow Brewery\\nAndes, NY United States\\nMicro Brewery\\n51 Beers 3,206 Ratings\\n(4.385)\\nRoot + Branch Brewing\\nCopiague, NY United States\\nMicro Brewery\\n193 Beers 117,528 Ratings\\n(4.369)\\nHorus Aged Ales\\nOceanside, CA United States\\nMicro Brewery\\n183 Beers 86,495 Ratings\\n(4.353)\\nBrasserie Cantillon\\nAnderlecht, Brussels Belgium\\nMicro Brewery\\n120 Beers 895,341 Ratings\\n(4.342)\\nCasey Brewing & Blending\\nGlenwood Springs, CO United States\\nMicro Brewery\\n666 Beers 238,733 Ratings\\n(4.341)\\nFreak Folk Bier\\nWaterbury Village Historic District, VT United States\\nMicro Brewery\\n68 Beers 14,873 Ratings\\n(4.341)\\nReport Ad\\nHouse of Fermentology\\nBurlington, VT United States\\nMicro Brewery\\n40 Beers 13,762 Ratings\\n(4.338)\\nMortalis Brewing Company\\nAvon, NY United States\\nMicro Brewery\\n529 Beers 332,215 Ratings\\n(4.332)\\nHill Farmstead Brewery\\nGreensboro, VT United States\\nMicro Brewery\\n341 Beers 1,239,475 Ratings\\n(4.319)\\nBrasserie du Bas-Canada\\nGatineau, QC Canada\\nMicro Brewery\\n245 Beers 195,945 Ratings\\n(4.306)\\nAmalgam Brewing\\nDenver, CO United States\\nMicro Brewery\\n62 Beers 5,176 Ratings\\n(4.302)\\nMonkish Brewing Co.\\nTorrance, CA United States\\nMicro Brewery\\n826 Beers 944,409 Ratings\\n(4.301)\\nBrouwerij 3 Fonteinen\\nLot, Vlaanderen Belgium\\nMicro Brewery\\n36 Beers 622,173 Ratings\\n(4.293)\\nCLAG Brewing Company\\nSandusky, OH United States\\nMicro Brewery\\n181 Beers 34,244 Ratings\\n(4.289)\\nCorporate Ladder Brewing Company\\nPalmetto, FL United States\\nMicro Brewery\\n517 Beers 85,972 Ratings\\n(4.284)\\nElectric Brewing Co.\\nMurrieta, CA United States\\nMicro Brewery\\n422 Beers 110,807 Ratings\\n(4.282)\\nCult Of Oak\\nNetherton, West Midlands England\\nMicro Brewery\\n24 Beers 1,596 Ratings\\n(4.277)\\nShared\\nSaint Louis, MO United States\\nMicro Brewery\\n130 Beers 110,872 Ratings\\n(4.276)\\nBKS Artisan Ales\\nKansas City, MO United States\\nMicro Brewery\\n556 Beers 75,330 Ratings\\n(4.274)\\nde Garde Brewing\\nTillamook, OR United States\\nMicro Brewery\\n337 Beers 388,633 Ratings\\n(4.266)\\nSpartacus Brewing\\nJuiz de Fora, Minas Gerais Brazil\\nMicro Brewery\\n169 Beers 88,065 Ratings\\n(4.265)\\nLittle Log Cabin Brewing Co.\\nArdmore, PA United States\\nMicro Brewery\\n28 Beers 24,369 Ratings\\n(4.255)\\nSante Adairius Rustic Ales\\nCapitola, CA United States\\nMicro Brewery\\n461 Beers 318,799 Ratings\\n(4.255)\\nThe Ale Apothecary\\nBend, OR United States\\nMicro Brewery\\n296 Beers 71,917 Ratings\\n(4.251)\\nBarclay Brewing Co.\\nNorth Haven, CT United States\\nMicro Brewery\\n33 Beers 13,796 Ratings\\n(4.249)\\nKnotted Root Brewing Company\\nNederland, CO United States\\nMicro Brewery\\n228 Beers 61,488 Ratings\\n(4.23)\\nSlice Beer Company\\nLincoln, CA United States\\nMicro Brewery\\n154 Beers 51,849 Ratings\\n(4.228)\\nHOMES Brewery\\nAnn Arbor, MI United States\\nMicro Brewery\\n310 Beers 239,856 Ratings\\n(4.227)\\nBurns Family Artisan Ales\\nDenver, CO United States\\nMicro Brewery\\n175 Beers 9,445 Ratings\\n(4.226)\\nAngry Chair Brewing\\nTampa, FL United States\\nMicro Brewery\\n855 Beers 422,572 Ratings\\n(4.224)\\nHudson Valley Brewery\\nBeacon, NY United States\\nMicro Brewery\\n329 Beers 437,043 Ratings\\n(4.223)\\nSuarez Family Brewery\\nLivingston, NY United States\\nMicro Brewery\\n128 Beers 131,349 Ratings\\n(4.219)\\nAdventurous Brewing\\nBettendorf, IA United States\\nMicro Brewery\\n203 Beers 34,126 Ratings\\n(4.218)\\nMessorem\\nMontreal, QC Canada\\nMicro Brewery\\n386 Beers 188,602 Ratings\\n(4.213)\\nCycle Brewing Company\\nSt. Petersburg, FL United States\\nMicro Brewery\\n522 Beers 445,372 Ratings\\n(4.209)\\nTimber Ales\\nNew York, NY United States\\nMicro Brewery\\n91 Beers 89,172 Ratings\\n(4.207)\\nBadlands Brewing Company\\nCaledon, ON Canada\\nMicro Brewery\\n306 Beers 86,900 Ratings\\n(4.205)\\nPulpit Rock Brewing Company\\nDecorah, IA United States\\nMicro Brewery\\n441 Beers 181,612 Ratings\\n(4.205)\\nLULZ Hard Seltzer\\nLake Zurich, IL United States\\nMicro Brewery\\n22 Beers 9,871 Ratings\\n(4.204)\\nThe Referend Bier Blendery\\nKutztown, PA United States\\nMicro Brewery\\n190 Beers 44,924 Ratings\\n(4.203)\\nBrasserie Auval Brewing\\nVal d'Espoir, QC Canada\\nMicro Brewery\\n69 Beers 61,088 Ratings\\n(4.203)\\nMcilhenney Brewing Company\\nAlpine, CA United States\\nMicro Brewery\\n41 Beers 6,652 Ratings\\n(4.201)\\nField & Oak\\nOcean Township, NJ United States\\nMicro Brewery\\n49 Beers 5,239 Ratings\\n(4.2)\\nMixed Breed Brewing\\nGuilderland Center, NY United States\\nMicro Brewery\\n67 Beers 7,541 Ratings\\n(4.199)\\nLong Live Beerworks\\nProvidence, RI United States\\nMicro Brewery\\n591 Beers 187,485 Ratings\\n(4.198)\\nBoiler Brewing Co.\\nLincoln, NE United States\\nMicro Brewery\\n858 Beers 140,490 Ratings\\n(4.198)\"]"
      ]
     },
     "execution_count": 33,
     "metadata": {},
     "output_type": "execute_result"
    }
   ],
   "source": [
    "all_brewery_info"
   ]
  },
  {
   "cell_type": "code",
   "execution_count": 34,
   "id": "4351a730",
   "metadata": {},
   "outputs": [],
   "source": [
    "for item in all_brewery_info2:\n",
    "    if item == \"Report\" or item == \"Ad\":\n",
    "        all_brewery_info2.remove(\"Report Ad\")"
   ]
  },
  {
   "cell_type": "code",
   "execution_count": 24,
   "id": "27ed14af",
   "metadata": {},
   "outputs": [],
   "source": [
    "def convert_to_dictionary(all_brewery_info):   \n",
    "    brewery_list_all = []\n",
    "\n",
    "    brewery_list = all_brewery_info[0].split(\"\\n\")\n",
    "    brewery_list.remove(\"Report Ad\")\n",
    "    i = 0\n",
    "\n",
    "    while i < len(brewery_list):\n",
    "#         if i == \"Report Ad\":\n",
    "#             brewery_list.remove(\"Report Ad\")\n",
    "#         else:\n",
    "        try: \n",
    "            brewery = brewery_list[i:i+5]\n",
    "            #print(brewery)\n",
    "            dictionary = dict()\n",
    "            dictionary['brewery_name'] = brewery[0]\n",
    "            dictionary['brewery_location'] = brewery[1]\n",
    "            dictionary['brewery_type'] = brewery[2]\n",
    "            dictionary['number_beers'] = brewery[3]\n",
    "            dictionary['brewery_ratings'] = brewery[4]\n",
    "        except IndexError:\n",
    "            print(f\"This batch broke: {brewery}\")\n",
    "            break\n",
    "        brewery_list_all.append(dictionary)\n",
    "        i += 5\n",
    "    return brewery_list_all\n",
    "    \n"
   ]
  },
  {
   "cell_type": "code",
   "execution_count": 35,
   "id": "10ae80db",
   "metadata": {},
   "outputs": [],
   "source": [
    "import pandas as pd\n",
    "untapped_micro= convert_to_dictionary(all_brewery_info)\n",
    "untapped_micro_df = pd.DataFrame(untapped_micro)\n",
    "untapped_micro_df.to_csv(\"untapped_micro.csv\")"
   ]
  },
  {
   "cell_type": "code",
   "execution_count": null,
   "id": "e6687475",
   "metadata": {},
   "outputs": [],
   "source": []
  }
 ],
 "metadata": {
  "kernelspec": {
   "display_name": "Python 3 (ipykernel)",
   "language": "python",
   "name": "python3"
  },
  "language_info": {
   "codemirror_mode": {
    "name": "ipython",
    "version": 3
   },
   "file_extension": ".py",
   "mimetype": "text/x-python",
   "name": "python",
   "nbconvert_exporter": "python",
   "pygments_lexer": "ipython3",
   "version": "3.9.13"
  }
 },
 "nbformat": 4,
 "nbformat_minor": 5
}
