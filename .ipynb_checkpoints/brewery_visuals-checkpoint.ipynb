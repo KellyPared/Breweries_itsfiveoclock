{
 "cells": [
  {
   "cell_type": "code",
   "execution_count": 2,
   "id": "9e2f43ed",
   "metadata": {},
   "outputs": [],
   "source": [
    "import pandas as pd\n",
    "import matplotlib.pyplot as plt"
   ]
  },
  {
   "cell_type": "code",
   "execution_count": null,
   "id": "1bb28579",
   "metadata": {},
   "outputs": [],
   "source": [
    "meadery_df = pd.read_csv(\"cleaned_csvs/untappd_meadery_clean.csv\")\n",
    "micro_df = pd.read_csv(\"cleaned_csvs/untappd_micro_clean.csv\")\n",
    "micro_us_df = pd.read_csv(\"cleaned_csvs/untappd_micro_us_clean.csv\")\n",
    "nano_df = pd.read_csv(\"cleaned_csvs/untappd_nano_clean.csv\")\n",
    "regional_df = pd.read_csv(\"cleaned_csvs/untappd_regional_clean.csv\")"
   ]
  }
 ],
 "metadata": {
  "kernelspec": {
   "display_name": "PythonData",
   "language": "python",
   "name": "pythondata"
  },
  "language_info": {
   "codemirror_mode": {
    "name": "ipython",
    "version": 3
   },
   "file_extension": ".py",
   "mimetype": "text/x-python",
   "name": "python",
   "nbconvert_exporter": "python",
   "pygments_lexer": "ipython3",
   "version": "3.9.13"
  }
 },
 "nbformat": 4,
 "nbformat_minor": 5
}
